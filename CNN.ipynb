{
 "cells": [
  {
   "cell_type": "code",
   "execution_count": null,
   "metadata": {},
   "outputs": [],
   "source": [
    "import cv2\n",
    "import numpy as np\n",
    "import pandas as pd\n",
    "from sklearn.model_selection import train_test_split\n",
    "from tensorflow import keras\n"
   ]
  },
  {
   "cell_type": "code",
   "execution_count": null,
   "metadata": {},
   "outputs": [],
   "source": [
    "# Split video into individual frames.\n",
    "def split_vid(path, output_path):\n",
    "    vidcap = cv2.VideoCapture(path)\n",
    "    success, image = vidcap.read()\n",
    "    count = 0\n",
    "    success = True\n",
    "    while success:\n",
    "        cv2.imwrite('{}/frame_{:05}.jpg'.format(output_path, count), image)\n",
    "        success, image = vidcap.read()\n",
    "        print('Read a new frame: {}'.format(success))\n",
    "        count += 1"
   ]
  },
  {
   "cell_type": "code",
   "execution_count": null,
   "metadata": {},
   "outputs": [],
   "source": [
    "cap = cv2.VideoCapture(\"data/train.mp4\")\n",
    "\n",
    "ret, frame1 = cap.read()\n",
    "prvs = cv2.cvtColor(frame1,cv2.COLOR_BGR2GRAY)\n",
    "hsv = np.zeros_like(frame1)\n",
    "hsv[...,1] = 255\n",
    "\n",
    "for _ in range(50):\n",
    "    ret, frame2 = cap.read()\n",
    "    next = cv2.cvtColor(frame2,cv2.COLOR_BGR2GRAY)\n",
    "\n",
    "    flow = cv2.calcOpticalFlowFarneback(prvs,next, None, 0.5, 3, 15, 3, 5, 1.2, 0)\n",
    "\n",
    "    mag, ang = cv2.cartToPolar(flow[...,0], flow[...,1])\n",
    "    hsv[...,0] = ang*180/np.pi/2\n",
    "    hsv[...,2] = cv2.normalize(mag,None,0,255,cv2.NORM_MINMAX)\n",
    "    rgb = cv2.cvtColor(hsv,cv2.COLOR_HSV2BGR)\n",
    "\n",
    "    cv2.imshow('frame2',rgb)\n",
    "    k = cv2.waitKey(30) & 0xff\n",
    "    if k == 27:\n",
    "        break\n",
    "    elif k == ord('s'):\n",
    "        cv2.imwrite('opticalfb.png',frame2)\n",
    "        cv2.imwrite('opticalhsv.png',rgb)\n",
    "    prvs = next\n",
    "\n",
    "cap.release()\n",
    "cv2.destroyAllWindows()"
   ]
  },
  {
   "cell_type": "code",
   "execution_count": null,
   "metadata": {},
   "outputs": [],
   "source": [
    "print(flow)"
   ]
  },
  {
   "cell_type": "code",
   "execution_count": null,
   "metadata": {},
   "outputs": [],
   "source": [
    "speeds = pd.read_csv('data/train.txt', names=['speed'])"
   ]
  },
  {
   "cell_type": "code",
   "execution_count": null,
   "metadata": {},
   "outputs": [],
   "source": [
    "speeds_arr = speeds['speed'].values"
   ]
  },
  {
   "cell_type": "code",
   "execution_count": null,
   "metadata": {},
   "outputs": [],
   "source": [
    "keras."
   ]
  },
  {
   "cell_type": "code",
   "execution_count": null,
   "metadata": {},
   "outputs": [],
   "source": [
    "# Create CSV of a data frame where every row contains one frame and the previous frame, with the speed at the current frame\n",
    "\n",
    "rows = []\n",
    "\n",
    "\n",
    "for i in range(1, 2400):\n",
    "    prev = 'data/train_images/frame_{:05}.jpg'.format(i-1)\n",
    "    curr = 'data/train_images/frame_{:05}.jpg'.format(i)\n",
    "    rows.append([prev, curr, speeds_arr[i]])\n",
    "    \n",
    "df = pd.DataFrame(rows, columns=['prev', 'curr', 'speed'])"
   ]
  },
  {
   "cell_type": "code",
   "execution_count": null,
   "metadata": {},
   "outputs": [],
   "source": [
    "df.to_csv('data/paired.csv', index=False)"
   ]
  },
  {
   "cell_type": "code",
   "execution_count": null,
   "metadata": {},
   "outputs": [],
   "source": [
    "paired_df = pd.read_csv('data/paired.csv')"
   ]
  },
  {
   "cell_type": "code",
   "execution_count": null,
   "metadata": {},
   "outputs": [],
   "source": [
    "# Create train and test sets\n",
    "X_train, X_test, y_train, y_test = train_test_split(paired_df.drop('speed', axis=1), paired_df['speed'], test_size=.2, random_state=42)"
   ]
  },
  {
   "cell_type": "code",
   "execution_count": null,
   "metadata": {},
   "outputs": [],
   "source": []
  },
  {
   "cell_type": "code",
   "execution_count": null,
   "metadata": {},
   "outputs": [],
   "source": [
    "cap = cv2.VideoCapture(\"data/train.mp4\")\n",
    "\n",
    "ret, frame1 = cap.read()\n",
    "frame1.shape"
   ]
  },
  {
   "cell_type": "code",
   "execution_count": null,
   "metadata": {},
   "outputs": [],
   "source": [
    "cv2.imshow('f', frame1)\n",
    "cv2.waitKey(0)"
   ]
  },
  {
   "cell_type": "code",
   "execution_count": null,
   "metadata": {},
   "outputs": [],
   "source": [
    "square_dim = (224, 224)\n",
    "resized = cv2.resize(frame1, square_dim, interpolation=cv2.INTER_AREA)"
   ]
  },
  {
   "cell_type": "code",
   "execution_count": null,
   "metadata": {},
   "outputs": [],
   "source": [
    "cv2.imshow('f', resized)\n",
    "cv2.waitKey(0)"
   ]
  },
  {
   "cell_type": "code",
   "execution_count": null,
   "metadata": {},
   "outputs": [],
   "source": [
    "model.fit?"
   ]
  },
  {
   "cell_type": "code",
   "execution_count": null,
   "metadata": {},
   "outputs": [],
   "source": [
    "# Define VGGNET model\n",
    "def vgg_model():\n",
    "    input_shape = (224, 224, 3)\n",
    "    model = keras.Sequential()\n",
    "    model.add(keras.layers.Conv2D(64, (3, 3), strides=1, padding='valid',\n",
    "                                 activation='relu', name='conv1'))\n",
    "    model.add(keras.layers.Conv2D(64, (3, 3), strides=1, padding='valid',\n",
    "                                 activation='relu', name='conv2'))\n",
    "    model.add(keras.layers.MaxPool2D(2))\n",
    "    \n",
    "    model.add(keras.layers.Conv2D(128, (3, 3), strides=1, padding='valid',\n",
    "                                 activation='relu', name='conv3'))\n",
    "    model.add(keras.layers.Conv2D(128, (3, 3), strides=1, padding='valid',\n",
    "                                 activation='relu', name='conv4'))\n",
    "    model.add(keras.layers.MaxPool2D(2))\n",
    "    \n",
    "    model.add(keras.layers.Conv2D(256, (3, 3), strides=1, padding='valid',\n",
    "                                 activation='relu', name='conv5'))\n",
    "    model.add(keras.layers.Conv2D(256, (3, 3), strides=1, padding='valid',\n",
    "                                 activation='relu', name='conv6'))\n",
    "    model.add(keras.layers.Conv2D(256, (3, 3), strides=1, padding='valid',\n",
    "                                 activation='relu', name='conv7'))\n",
    "    model.add(keras.layers.MaxPool2D(2))\n",
    "    \n",
    "    model.add(keras.layers.Conv2D(512, (3, 3), strides=1, padding='valid',\n",
    "                                 activation='relu', name='conv8'))\n",
    "    model.add(keras.layers.Conv2D(512, (3, 3), strides=1, padding='valid',\n",
    "                                 activation='relu', name='conv9'))\n",
    "    model.add(keras.layers.Conv2D(512, (3, 3), strides=1, padding='valid',\n",
    "                                 activation='relu', name='conv10'))\n",
    "    model.add(keras.layers.MaxPool2D(2))\n",
    "    \n",
    "    model.add(keras.layers.Conv2D(512, (3, 3), strides=1, padding='valid',\n",
    "                                 activation='relu', name='conv11'))\n",
    "    model.add(keras.layers.Conv2D(512, (3, 3), strides=1, padding='valid',\n",
    "                                 activation='relu', name='conv12'))\n",
    "    model.add(keras.layers.Conv2D(512, (3, 3), strides=1, padding='valid',\n",
    "                                 activation='relu', name='conv13'))\n",
    "    model.add(keras.layers.MaxPool2D(2))\n",
    "    \n",
    "    model.add(keras.layers.Flatten())\n",
    "    \n",
    "    model.add(keras.layers.Dense(4096, activation='relu'))\n",
    "    model.add(keras.layers.Dense(4096, activation='relu'))\n",
    "    model.add(keras.layers.Dense(1000, activation='relu'))\n",
    "    model.add(keras.layers.Dense(1))\n",
    "    \n",
    "    adam = keras.optimizers.Adam(lr=1e-4, beta_1=0.9, beta_2=0.999, epsilon=1e-08, decay=0.0)\n",
    "    \n",
    "    model.compile(optimizer=adam, loss='mse')\n",
    "    \n",
    "    return model\n",
    "    \n",
    "    "
   ]
  },
  {
   "cell_type": "code",
   "execution_count": null,
   "metadata": {},
   "outputs": [],
   "source": [
    "model = vgg_model()"
   ]
  },
  {
   "cell_type": "code",
   "execution_count": null,
   "metadata": {},
   "outputs": [],
   "source": [
    "# Create Farneback Flow Images \n",
    "# returns array of rbg values of farneback flow \n",
    "def fb_flow_from_df(data):\n",
    "    rgbs = []\n",
    "\n",
    "    for row in data.itertuples():\n",
    "        prev = cv2.imread(row[1], 0)\n",
    "        curr = cv2.imread(row[2], 0)\n",
    "        print('Files read')\n",
    "        flow = cv2.calcOpticalFlowFarneback(prev, curr, None, 0.5, 3, 15, 3, 5, 1.2, 0)\n",
    "\n",
    "        mag, ang = cv2.cartToPolar(flow[...,0], flow[...,1])\n",
    "        hsv[...,0] = ang*180/np.pi/2\n",
    "        hsv[...,2] = cv2.normalize(mag,None,0,255,cv2.NORM_MINMAX)\n",
    "        rgb = cv2.cvtColor(hsv,cv2.COLOR_HSV2BGR)\n",
    "        \n",
    "        rgbs.append(rgb)\n",
    "    \n",
    "    return np.array(rgbs)"
   ]
  },
  {
   "cell_type": "code",
   "execution_count": null,
   "metadata": {},
   "outputs": [],
   "source": [
    "new_X_train = fb_flow_from_df(X_train)"
   ]
  },
  {
   "cell_type": "code",
   "execution_count": null,
   "metadata": {},
   "outputs": [],
   "source": [
    "new_X_train = np.array(new_X_train)"
   ]
  },
  {
   "cell_type": "code",
   "execution_count": null,
   "metadata": {},
   "outputs": [],
   "source": [
    "y_train = np.array(y_train.values)"
   ]
  },
  {
   "cell_type": "code",
   "execution_count": null,
   "metadata": {},
   "outputs": [],
   "source": [
    "model.fit(new_X_train, y_train, epochs=100, validation_split=.1, verbose=2)"
   ]
  },
  {
   "cell_type": "code",
   "execution_count": null,
   "metadata": {},
   "outputs": [],
   "source": []
  }
 ],
 "metadata": {
  "kernelspec": {
   "display_name": "pydata",
   "language": "python",
   "name": "pydata"
  },
  "language_info": {
   "codemirror_mode": {
    "name": "ipython",
    "version": 3
   },
   "file_extension": ".py",
   "mimetype": "text/x-python",
   "name": "python",
   "nbconvert_exporter": "python",
   "pygments_lexer": "ipython3",
   "version": "3.6.5"
  }
 },
 "nbformat": 4,
 "nbformat_minor": 2
}
